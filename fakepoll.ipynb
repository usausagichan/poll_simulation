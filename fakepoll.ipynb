{
  "nbformat": 4,
  "nbformat_minor": 0,
  "metadata": {
    "colab": {
      "provenance": [],
      "authorship_tag": "ABX9TyPkSZ5QGGXPp5x5RStoBuYr"
    },
    "kernelspec": {
      "name": "python3",
      "display_name": "Python 3"
    },
    "language_info": {
      "name": "python"
    }
  },
  "cells": [
    {
      "cell_type": "code",
      "execution_count": 54,
      "metadata": {
        "colab": {
          "base_uri": "https://localhost:8080/",
          "height": 297
        },
        "id": "-LgoR9pAE6Jk",
        "outputId": "3143b85b-dc91-40ff-fb2a-16db6eeb799c"
      },
      "outputs": [
        {
          "output_type": "execute_result",
          "data": {
            "text/plain": [
              "Text(0, 0.5, 'distribution')"
            ]
          },
          "metadata": {},
          "execution_count": 54
        },
        {
          "output_type": "display_data",
          "data": {
            "text/plain": [
              "<Figure size 432x288 with 1 Axes>"
            ],
            "image/png": "[encoded data removed]"
          },
          "metadata": {
            "needs_background": "light"
          }
        }
      ],
      "source": [
        "import numpy as np\n",
        "import matplotlib.pyplot as plt\n",
        "from scipy import stats\n",
        "\n",
        "l=['o','s','c','x']\n",
        "N=1000\n",
        "T=10000\n",
        "p12=[]\n",
        "p1=0.3\n",
        "p2=0.3\n",
        "p3=0.1\n",
        "for i in range(T):\n",
        "  survey=np.random.choice(l,N,p=[p1,p2,p3,(1-p1-p2-p3)])\n",
        "  unique,count=np.unique(survey,return_counts=True)\n",
        "  doc=dict(zip(unique,count/1000*100))\n",
        "  x=doc['o']-doc['s']\n",
        "  p12.append(x)\n",
        "plt.hist(p12,bins=int(T/100))\n",
        "plt.xlabel('p1-p2(percentage)')\n",
        "plt.ylabel('distribution')"
      ]
    },
    {
      "cell_type": "code",
      "source": [
        "mu,std=stats.norm.fit(p12)\n",
        "print('average(p1-p2)= {mu}%, SE(p1-p2)= {std}%'.format(mu=mu,std=std))"
      ],
      "metadata": {
        "colab": {
          "base_uri": "https://localhost:8080/"
        },
        "id": "G1f9p7Z5WViR",
        "outputId": "f0ff862f-e232-4fe5-9863-c787bca301aa"
      },
      "execution_count": 61,
      "outputs": [
        {
          "output_type": "stream",
          "name": "stdout",
          "text": [
            "average(p1-p2)= 0.015239999999999986%, SE(p1-p2)= 2.4595897508324436%\n"
          ]
        }
      ]
    },
    {
      "cell_type": "code",
      "source": [
        "target=3.2\n",
        "poll=filter(lambda x:x>target,p12)\n",
        "test=len(list(poll))/T*100 #percentage\n",
        "print('There are {p} percentage of (p1-p2) values larger than {target} percent'.format(p=test,target=target))"
      ],
      "metadata": {
        "colab": {
          "base_uri": "https://localhost:8080/"
        },
        "id": "IVq8ATfRSWKY",
        "outputId": "cc9f93de-1fc1-4d37-df4f-046abfcc3109"
      },
      "execution_count": 64,
      "outputs": [
        {
          "output_type": "stream",
          "name": "stdout",
          "text": [
            "There are 9.67 percentage of (p1-p2) values larger than 3.2 percent\n"
          ]
        }
      ]
    }
  ]
}